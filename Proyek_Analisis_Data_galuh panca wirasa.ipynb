{
  "cells": [
    {
      "cell_type": "markdown",
      "metadata": {
        "id": "H9wADwK78DCz"
      },
      "source": [
        "# Proyek Analisis Data: [Input Nama Dataset]\n",
        "- **Nama:** Galuh panca wirasa\n",
        "- **Email:** m262b4ky1585@bangkit.academy\n",
        "- **ID Dicoding:** galuh_panca"
      ]
    },
    {
      "cell_type": "markdown",
      "metadata": {
        "id": "eE0raob58DC0"
      },
      "source": [
        "## Menentukan Pertanyaan Bisnis"
      ]
    },
    {
      "cell_type": "markdown",
      "metadata": {
        "id": "GmQeQ5YF8DC0"
      },
      "source": [
        "- Kapan hari tersibuk untuk penyewaan sepeda dalam seminggu\n",
        "- Bagaimana pengaruh kondisi cuaca terhadap jumlah penyewaan sepeda?"
      ]
    },
    {
      "cell_type": "markdown",
      "metadata": {
        "id": "H-z4QGlO8DC1"
      },
      "source": [
        "## Import Semua Packages/Library yang Digunakan"
      ]
    },
    {
      "cell_type": "code",
      "execution_count": null,
      "metadata": {
        "id": "FVYwaObI8DC1"
      },
      "outputs": [],
      "source": [
        "import pandas as pd\n",
        "import matplotlib.pyplot as plt"
      ]
    },
    {
      "cell_type": "markdown",
      "metadata": {
        "id": "h_Sh51Xy8DC1"
      },
      "source": [
        "## Data Wrangling"
      ]
    },
    {
      "cell_type": "markdown",
      "metadata": {
        "id": "sXU2GBYu8DC1"
      },
      "source": [
        "### Gathering Data"
      ]
    },
    {
      "cell_type": "code",
      "execution_count": null,
      "metadata": {
        "id": "zjCBk1BI8DC1",
        "colab": {
          "base_uri": "https://localhost:8080/"
        },
        "outputId": "cd13d8df-f18d-43bc-c9e1-ae2b84e82361"
      },
      "outputs": [
        {
          "output_type": "stream",
          "name": "stdout",
          "text": [
            "   instant      dteday  season  yr  mnth  holiday  weekday  workingday  \\\n",
            "0        1  2011-01-01       1   0     1        0        6           0   \n",
            "1        2  2011-01-02       1   0     1        0        0           0   \n",
            "2        3  2011-01-03       1   0     1        0        1           1   \n",
            "3        4  2011-01-04       1   0     1        0        2           1   \n",
            "4        5  2011-01-05       1   0     1        0        3           1   \n",
            "\n",
            "   weathersit      temp     atemp       hum  windspeed  casual  registered  \\\n",
            "0           2  0.344167  0.363625  0.805833   0.160446     331         654   \n",
            "1           2  0.363478  0.353739  0.696087   0.248539     131         670   \n",
            "2           1  0.196364  0.189405  0.437273   0.248309     120        1229   \n",
            "3           1  0.200000  0.212122  0.590435   0.160296     108        1454   \n",
            "4           1  0.226957  0.229270  0.436957   0.186900      82        1518   \n",
            "\n",
            "    cnt  \n",
            "0   985  \n",
            "1   801  \n",
            "2  1349  \n",
            "3  1562  \n",
            "4  1600  \n"
          ]
        }
      ],
      "source": [
        "data_sewa_sepeda = pd.read_csv(\"./sample_data/day.csv\")\n",
        "print(data_sewa_sepeda.head())"
      ]
    },
    {
      "cell_type": "markdown",
      "source": [
        "**Insight:**\n",
        "Kode ini akan menampilkan 5 baris pertama dari DataFrame \"data_sewa_sepeda\""
      ],
      "metadata": {
        "id": "MMi6xGaDkbCi"
      }
    },
    {
      "cell_type": "markdown",
      "metadata": {
        "id": "FHSiqaZp8DC1"
      },
      "source": [
        "### Assessing Data"
      ]
    },
    {
      "cell_type": "code",
      "source": [
        "print(data_sewa_sepeda.info())\n",
        "print(\"Jumlah duplikasi: \", data_sewa_sepeda.duplicated().sum())\n",
        "print(data_sewa_sepeda.describe())"
      ],
      "metadata": {
        "id": "ax-3tEjc9Cj1",
        "colab": {
          "base_uri": "https://localhost:8080/"
        },
        "outputId": "e63cb22b-a9ed-4d4e-b432-299cb40ffe44"
      },
      "execution_count": null,
      "outputs": [
        {
          "output_type": "stream",
          "name": "stdout",
          "text": [
            "<class 'pandas.core.frame.DataFrame'>\n",
            "RangeIndex: 731 entries, 0 to 730\n",
            "Data columns (total 16 columns):\n",
            " #   Column      Non-Null Count  Dtype  \n",
            "---  ------      --------------  -----  \n",
            " 0   instant     731 non-null    int64  \n",
            " 1   dteday      731 non-null    object \n",
            " 2   season      731 non-null    int64  \n",
            " 3   yr          731 non-null    int64  \n",
            " 4   mnth        731 non-null    int64  \n",
            " 5   holiday     731 non-null    int64  \n",
            " 6   weekday     731 non-null    int64  \n",
            " 7   workingday  731 non-null    int64  \n",
            " 8   weathersit  731 non-null    int64  \n",
            " 9   temp        731 non-null    float64\n",
            " 10  atemp       731 non-null    float64\n",
            " 11  hum         731 non-null    float64\n",
            " 12  windspeed   731 non-null    float64\n",
            " 13  casual      731 non-null    int64  \n",
            " 14  registered  731 non-null    int64  \n",
            " 15  cnt         731 non-null    int64  \n",
            "dtypes: float64(4), int64(11), object(1)\n",
            "memory usage: 91.5+ KB\n",
            "None\n",
            "Jumlah duplikasi:  0\n",
            "          instant      season          yr        mnth     holiday     weekday  \\\n",
            "count  731.000000  731.000000  731.000000  731.000000  731.000000  731.000000   \n",
            "mean   366.000000    2.496580    0.500684    6.519836    0.028728    2.997264   \n",
            "std    211.165812    1.110807    0.500342    3.451913    0.167155    2.004787   \n",
            "min      1.000000    1.000000    0.000000    1.000000    0.000000    0.000000   \n",
            "25%    183.500000    2.000000    0.000000    4.000000    0.000000    1.000000   \n",
            "50%    366.000000    3.000000    1.000000    7.000000    0.000000    3.000000   \n",
            "75%    548.500000    3.000000    1.000000   10.000000    0.000000    5.000000   \n",
            "max    731.000000    4.000000    1.000000   12.000000    1.000000    6.000000   \n",
            "\n",
            "       workingday  weathersit        temp       atemp         hum   windspeed  \\\n",
            "count  731.000000  731.000000  731.000000  731.000000  731.000000  731.000000   \n",
            "mean     0.683995    1.395349    0.495385    0.474354    0.627894    0.190486   \n",
            "std      0.465233    0.544894    0.183051    0.162961    0.142429    0.077498   \n",
            "min      0.000000    1.000000    0.059130    0.079070    0.000000    0.022392   \n",
            "25%      0.000000    1.000000    0.337083    0.337842    0.520000    0.134950   \n",
            "50%      1.000000    1.000000    0.498333    0.486733    0.626667    0.180975   \n",
            "75%      1.000000    2.000000    0.655417    0.608602    0.730209    0.233214   \n",
            "max      1.000000    3.000000    0.861667    0.840896    0.972500    0.507463   \n",
            "\n",
            "            casual   registered          cnt  \n",
            "count   731.000000   731.000000   731.000000  \n",
            "mean    848.176471  3656.172367  4504.348837  \n",
            "std     686.622488  1560.256377  1937.211452  \n",
            "min       2.000000    20.000000    22.000000  \n",
            "25%     315.500000  2497.000000  3152.000000  \n",
            "50%     713.000000  3662.000000  4548.000000  \n",
            "75%    1096.000000  4776.500000  5956.000000  \n",
            "max    3410.000000  6946.000000  8714.000000  \n"
          ]
        }
      ]
    },
    {
      "cell_type": "markdown",
      "source": [
        "**Insight:**\n",
        "dalam kasus ini data_sewa_sepeda tidak ada masalah sama sekali dari seluruh kolom dan juga tidak terjadi ada missing values dan inaccurate value"
      ],
      "metadata": {
        "id": "7dtxhAPrkhPL"
      }
    },
    {
      "cell_type": "markdown",
      "metadata": {
        "id": "EhN5R4hr8DC1"
      },
      "source": [
        "### Cleaning Data"
      ]
    },
    {
      "cell_type": "code",
      "source": [],
      "metadata": {
        "id": "jVnYpprE9Evz"
      },
      "execution_count": null,
      "outputs": []
    },
    {
      "cell_type": "markdown",
      "source": [
        "**Insight:**\n",
        "karena tidak ada data yang kotor maka tahap cleaning data di lewatkan"
      ],
      "metadata": {
        "id": "Q_5ejIqckiSP"
      }
    },
    {
      "cell_type": "markdown",
      "metadata": {
        "id": "gp-Y6wU38DC1"
      },
      "source": [
        "## Exploratory Data Analysis (EDA)"
      ]
    },
    {
      "cell_type": "markdown",
      "metadata": {
        "id": "MW7WF2kr8DC1"
      },
      "source": [
        "### Explore ..."
      ]
    },
    {
      "cell_type": "code",
      "execution_count": null,
      "metadata": {
        "id": "e9CQCZjk8DC2",
        "colab": {
          "base_uri": "https://localhost:8080/"
        },
        "outputId": "0b04fc80-b0a7-4c56-9ec9-94533978c2e4"
      },
      "outputs": [
        {
          "output_type": "stream",
          "name": "stdout",
          "text": [
            "           instant      dteday      season          yr        mnth  \\\n",
            "count   731.000000         731  731.000000  731.000000  731.000000   \n",
            "unique         NaN         731         NaN         NaN         NaN   \n",
            "top            NaN  2011-01-01         NaN         NaN         NaN   \n",
            "freq           NaN           1         NaN         NaN         NaN   \n",
            "mean    366.000000         NaN    2.496580    0.500684    6.519836   \n",
            "std     211.165812         NaN    1.110807    0.500342    3.451913   \n",
            "min       1.000000         NaN    1.000000    0.000000    1.000000   \n",
            "25%     183.500000         NaN    2.000000    0.000000    4.000000   \n",
            "50%     366.000000         NaN    3.000000    1.000000    7.000000   \n",
            "75%     548.500000         NaN    3.000000    1.000000   10.000000   \n",
            "max     731.000000         NaN    4.000000    1.000000   12.000000   \n",
            "\n",
            "           holiday     weekday  workingday  weathersit        temp  \\\n",
            "count   731.000000  731.000000  731.000000  731.000000  731.000000   \n",
            "unique         NaN         NaN         NaN         NaN         NaN   \n",
            "top            NaN         NaN         NaN         NaN         NaN   \n",
            "freq           NaN         NaN         NaN         NaN         NaN   \n",
            "mean      0.028728    2.997264    0.683995    1.395349    0.495385   \n",
            "std       0.167155    2.004787    0.465233    0.544894    0.183051   \n",
            "min       0.000000    0.000000    0.000000    1.000000    0.059130   \n",
            "25%       0.000000    1.000000    0.000000    1.000000    0.337083   \n",
            "50%       0.000000    3.000000    1.000000    1.000000    0.498333   \n",
            "75%       0.000000    5.000000    1.000000    2.000000    0.655417   \n",
            "max       1.000000    6.000000    1.000000    3.000000    0.861667   \n",
            "\n",
            "             atemp         hum   windspeed       casual   registered  \\\n",
            "count   731.000000  731.000000  731.000000   731.000000   731.000000   \n",
            "unique         NaN         NaN         NaN          NaN          NaN   \n",
            "top            NaN         NaN         NaN          NaN          NaN   \n",
            "freq           NaN         NaN         NaN          NaN          NaN   \n",
            "mean      0.474354    0.627894    0.190486   848.176471  3656.172367   \n",
            "std       0.162961    0.142429    0.077498   686.622488  1560.256377   \n",
            "min       0.079070    0.000000    0.022392     2.000000    20.000000   \n",
            "25%       0.337842    0.520000    0.134950   315.500000  2497.000000   \n",
            "50%       0.486733    0.626667    0.180975   713.000000  3662.000000   \n",
            "75%       0.608602    0.730209    0.233214  1096.000000  4776.500000   \n",
            "max       0.840896    0.972500    0.507463  3410.000000  6946.000000   \n",
            "\n",
            "                cnt  \n",
            "count    731.000000  \n",
            "unique          NaN  \n",
            "top             NaN  \n",
            "freq            NaN  \n",
            "mean    4504.348837  \n",
            "std     1937.211452  \n",
            "min       22.000000  \n",
            "25%     3152.000000  \n",
            "50%     4548.000000  \n",
            "75%     5956.000000  \n",
            "max     8714.000000  \n"
          ]
        }
      ],
      "source": [
        "print(data_sewa_sepeda.describe(include=\"all\"))"
      ]
    },
    {
      "cell_type": "markdown",
      "source": [
        "**Insight:**\n",
        "Berdasarkan parameter statistik, memperoleh informasi jumlah total observasi sebanyak 731. dan waktu tersibuk untuk penyewaan itu di weekday (hari kerja) artinya orang yang menyewa sepeda ini tujuannya untuk pergi bekerja"
      ],
      "metadata": {
        "id": "th_Lzl2Fkj9O"
      }
    },
    {
      "cell_type": "markdown",
      "metadata": {
        "id": "zsyZjqak8DC2"
      },
      "source": [
        "## Visualization & Explanatory Analysis"
      ]
    },
    {
      "cell_type": "markdown",
      "metadata": {
        "id": "HZxOiQ6n8DC2"
      },
      "source": [
        "### Pertanyaan 1:"
      ]
    },
    {
      "cell_type": "code",
      "execution_count": null,
      "metadata": {
        "id": "1swJUdAD8DC2",
        "colab": {
          "base_uri": "https://localhost:8080/",
          "height": 628
        },
        "outputId": "8bde3567-a46f-419c-dcb5-c417cc6e9011"
      },
      "outputs": [
        {
          "output_type": "stream",
          "name": "stdout",
          "text": [
            "weekday\n",
            "0    4228.828571\n",
            "1    4338.123810\n",
            "2    4510.663462\n",
            "3    4548.538462\n",
            "4    4667.259615\n",
            "5    4690.288462\n",
            "6    4550.542857\n",
            "Name: cnt, dtype: float64\n"
          ]
        },
        {
          "output_type": "display_data",
          "data": {
            "text/plain": [
              "<Figure size 640x480 with 1 Axes>"
            ],
            "image/png": "[encoded data removed]"
          },
          "metadata": {}
        }
      ],
      "source": [
        "waktu_tersibuk = data_sewa_sepeda.groupby('weekday')['cnt'].mean()\n",
        "print(waktu_tersibuk)\n",
        "waktu_tersibuk.plot(kind='line', title='Rata-rata Penyewaan Sepeda Perhari dalam 1 minggu', marker='o')\n",
        "plt.ylabel('Rata-rata Jumlah Penyewaan')\n",
        "plt.xlabel('dalam Seminggu')\n",
        "plt.xticks(ticks=[0, 1, 2, 3, 4, 5, 6], labels=['Minggu', 'Senin', 'Selasa', 'Rabu', 'Kamis', 'Jumat', 'Sabtu'])\n",
        "plt.grid(True)\n",
        "plt.show()\n"
      ]
    },
    {
      "cell_type": "markdown",
      "metadata": {
        "id": "DgHI7CiU8DC2"
      },
      "source": [
        "### Pertanyaan 2:"
      ]
    },
    {
      "cell_type": "code",
      "execution_count": null,
      "metadata": {
        "id": "Go0lCsvO8DC2",
        "colab": {
          "base_uri": "https://localhost:8080/",
          "height": 634
        },
        "outputId": "ea26444b-a8cb-4a77-f115-90d836565e49"
      },
      "outputs": [
        {
          "output_type": "stream",
          "name": "stdout",
          "text": [
            "weathersit\n",
            "Cerah           4876.786177\n",
            "Hujan ringan    4035.862348\n",
            "kabut           1803.285714\n",
            "Name: cnt, dtype: float64\n"
          ]
        },
        {
          "output_type": "display_data",
          "data": {
            "text/plain": [
              "<Figure size 640x480 with 1 Axes>"
            ],
            "image/png": "[encoded data removed]"
          },
          "metadata": {}
        }
      ],
      "source": [
        "pengaruh_cuaca = data_sewa_sepeda.groupby('weathersit')['cnt'].mean()\n",
        "cuaca_label = {1: 'Cerah', 2: 'Hujan ringan', 3: 'kabut'}\n",
        "pengaruh_cuaca.index = pengaruh_cuaca.index.map(cuaca_label)\n",
        "print(pengaruh_cuaca)\n",
        "\n",
        "pengaruh_cuaca.plot(kind='bar', title='Pengaruh Kondisi Cuaca terhadap Jumlah Penyewaan Sepeda')\n",
        "plt.ylabel('Rata-rata Jumlah Penyewaan')\n",
        "plt.xlabel('Kondisi Cuaca')\n",
        "plt.show()"
      ]
    },
    {
      "cell_type": "markdown",
      "source": [
        "**Insight:**\n",
        "1. Dari hasil ini bisa dilihat bahwa di hari tersibuk untuk penyewaan sepeda. Biasanya, di hari kerja ketika orang-orang bepergian ke tempat kerja.\n",
        "\n",
        "2. rata-rata jumlah penyewaan sepeda berubah tergantung pada kondisi cuaca. Biasanya, kondisi cuaca yang lebih baik akan menghasilkan penyewaan sepeda yang lebih tinggi, dan kondisi cuaca buruk akan turun."
      ],
      "metadata": {
        "id": "_0-36BDLklRg"
      }
    },
    {
      "cell_type": "markdown",
      "source": [
        "## Analisis Lanjutan (Opsional)"
      ],
      "metadata": {
        "id": "9y4VUsmcYNZ5"
      }
    },
    {
      "cell_type": "code",
      "source": [],
      "metadata": {
        "id": "iWhnzsJGYUCO"
      },
      "execution_count": null,
      "outputs": []
    },
    {
      "cell_type": "markdown",
      "metadata": {
        "id": "_WeHlCeX8DC2"
      },
      "source": [
        "## Conclusion"
      ]
    },
    {
      "cell_type": "markdown",
      "metadata": {
        "id": "ZTcyR48Y8DC2"
      },
      "source": [
        "1. hari-hari dengan aktivitas penyewaan sepeda tertinggi terjadi di hari kerja dikarenakan orang orang yang berada di daerah sana mungkin sudah terbiasa untuk pergi bekerja menggunakan sepeda serta sudah menjadi tradisi di sana Sebaliknya, di hari libur justru lebih rendah dari hari-hari kerja,  mungkin menunjukkan pola yang lebih stabil.\n",
        "\n",
        "2. Dari hasil pengelompokan dan analisis berdasarkan kolom weathersit, dapat disimpulkan bahwa cuaca yang lebih baik cenderung meningkatkan jumlah penyewaan sepeda. Kondisi cuaca buruk seperti hujan atau kabut kemungkinan besar menurunkan rata-rata jumlah penyewaan sepeda, karena pengguna tidak mau bersepeda dalam cuaca yang tidak mendukung untuk bersepeda."
      ]
    }
  ],
  "metadata": {
    "kernelspec": {
      "display_name": "Python 3",
      "language": "python",
      "name": "python3"
    },
    "language_info": {
      "name": "python",
      "version": "3.8.0 (tags/v3.8.0:fa919fd, Oct 14 2019, 19:21:23) [MSC v.1916 32 bit (Intel)]"
    },
    "orig_nbformat": 4,
    "vscode": {
      "interpreter": {
        "hash": "972b3bf27e332e87b5379f2791f6ef9dfc79c71018c370b0d7423235e20fe4d7"
      }
    },
    "colab": {
      "provenance": [],
      "collapsed_sections": [
        "sXU2GBYu8DC1",
        "FHSiqaZp8DC1",
        "EhN5R4hr8DC1",
        "9y4VUsmcYNZ5"
      ]
    }
  },
  "nbformat": 4,
  "nbformat_minor": 0
}